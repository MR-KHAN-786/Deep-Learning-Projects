{
  "cells": [
    {
      "cell_type": "markdown",
      "metadata": {
        "id": "view-in-github",
        "colab_type": "text"
      },
      "source": [
        "<a href=\"https://colab.research.google.com/github/MR-KHAN-786/Deep-Learning-Projects/blob/main/Cat_DogPrediction.ipynb\" target=\"_parent\"><img src=\"https://colab.research.google.com/assets/colab-badge.svg\" alt=\"Open In Colab\"/></a>"
      ]
    },
    {
      "cell_type": "code",
      "execution_count": null,
      "metadata": {
        "id": "zTxnZXcdbT60"
      },
      "outputs": [],
      "source": [
        "import tensorflow as tf\n",
        "print(tf.__version__)\n"
      ]
    },
    {
      "cell_type": "code",
      "execution_count": null,
      "metadata": {
        "id": "IkuxPDTGbyhx"
      },
      "outputs": [],
      "source": [
        "import tensorflow_datasets as tfds\n",
        "dataset,info=tfds.load(\"cats_vs_dogs\",with_info=True,as_supervised=True)\n",
        "train_data = dataset[\"train\"]"
      ]
    },
    {
      "cell_type": "code",
      "execution_count": null,
      "metadata": {
        "id": "6jB-Auzyc-Wu"
      },
      "outputs": [],
      "source": [
        "IMG_SIZE=128\n",
        "def format_image(image,label):\n",
        "  image=tf.image.resize(image,(IMG_SIZE,IMG_SIZE))\n",
        "  image=image/255.0\n",
        "  return image,label\n",
        "\n",
        "train=train_data.map(format_image)"
      ]
    },
    {
      "cell_type": "code",
      "execution_count": null,
      "metadata": {
        "id": "0XrT0b4xdkAZ"
      },
      "outputs": [],
      "source": [
        "BATCH_SIZE=32\n",
        "SHUFFLE_BUFFER_SIZE=1000\n",
        "train_batches=(train\n",
        ".shuffle(SHUFFLE_BUFFER_SIZE)\n",
        ".batch(BATCH_SIZE)\n",
        ".prefetch(tf.data.AUTOTUNE))\n",
        "\n",
        "\n",
        "\n"
      ]
    },
    {
      "cell_type": "code",
      "execution_count": null,
      "metadata": {
        "id": "2RQIUI7PwqwF"
      },
      "outputs": [],
      "source": [
        "from tensorflow.keras import layers, models\n",
        "\n",
        "# Sequential model = stack of layers\n",
        "model = models.Sequential([\n",
        "\n",
        "    # First Convolutional Layer (detects edges, textures)\n",
        "    layers.Conv2D(32, (3,3), activation='relu', input_shape=(IMG_SIZE, IMG_SIZE, 3)),\n",
        "    layers.MaxPooling2D(2,2),  # Reduce size by 2x (downsampling)\n",
        "\n",
        "    # Second Convolutional Layer (learns more complex features)\n",
        "    layers.Conv2D(64, (3,3), activation='relu'),\n",
        "    layers.MaxPooling2D(2,2),\n",
        "\n",
        "    # Third Convolutional Layer (learns even higher-level features)\n",
        "    layers.Conv2D(128, (3,3), activation='relu'),\n",
        "    layers.MaxPooling2D(2,2),\n",
        "\n",
        "    # Flatten image to a 1D vector\n",
        "    layers.Flatten(),\n",
        "\n",
        "    # Fully connected layer\n",
        "    layers.Dense(128, activation='relu'),\n",
        "\n",
        "    # Output layer: 1 neuron with sigmoid (0 = cat, 1 = dog)\n",
        "    layers.Dense(1, activation='sigmoid')\n",
        "])\n",
        "\n",
        "# Compile model: choose optimizer, loss function, and metrics\n",
        "model.compile(optimizer='adam',\n",
        "              loss='binary_crossentropy',\n",
        "              metrics=['accuracy'])\n"
      ]
    },
    {
      "cell_type": "code",
      "execution_count": null,
      "metadata": {
        "id": "pZ3c-hDYw4CU"
      },
      "outputs": [],
      "source": [
        "history=model.fit(train_batches ,epochs=5)"
      ]
    },
    {
      "cell_type": "code",
      "source": [
        "import matplotlib.pyplot as plt\n",
        "\n",
        "plt.plot(history.history['accuracy'], label='Training Accuracy')\n",
        "plt.plot(history.history['loss'], label='Training Loss')\n",
        "plt.xlabel('Epoch')\n",
        "plt.ylabel('Value')\n",
        "plt.legend()\n",
        "plt.show()\n"
      ],
      "metadata": {
        "id": "TA1NphrFKms3"
      },
      "execution_count": null,
      "outputs": []
    },
    {
      "cell_type": "code",
      "source": [
        "import numpy as np\n",
        "from tensorflow.keras.preprocessing import image\n",
        "\n",
        "# Load your own image (upload \"test.jpg\" to Colab first)\n",
        "img_path = \"cat1.jpg\"\n",
        "\n",
        "# Convert image to same format as training data\n",
        "img = image.load_img(img_path, target_size=(IMG_SIZE, IMG_SIZE))\n",
        "img_array = image.img_to_array(img) / 255.0\n",
        "img_array = np.expand_dims(img_array, axis=0)  # Add batch dimension\n",
        "\n",
        "# Predict (returns probability between 0 and 1)\n",
        "prediction = model.predict(img_array)[0][0]\n",
        "\n",
        "if prediction > 0.5:\n",
        "    print(\"It's a Dog 🐶\")\n",
        "else:\n",
        "    print(\"It's a Cat 🐱\")\n"
      ],
      "metadata": {
        "id": "ZqzNths5SgfD"
      },
      "execution_count": null,
      "outputs": []
    },
    {
      "cell_type": "code",
      "source": [
        "import os\n",
        "from google.colab import drive\n",
        "\n",
        "if not os.path.ismount('/content/drive'):\n",
        "    drive.mount('/content/drive')\n",
        "else:\n",
        "    print(\"Drive already mounted ✅\")\n"
      ],
      "metadata": {
        "id": "MEfq4drUUmJx",
        "colab": {
          "base_uri": "https://localhost:8080/"
        },
        "outputId": "1c02b5fe-6e17-468c-f3d8-d0b169ad5410"
      },
      "execution_count": 20,
      "outputs": [
        {
          "output_type": "stream",
          "name": "stdout",
          "text": [
            "Drive already mounted ✅\n"
          ]
        }
      ]
    },
    {
      "cell_type": "code",
      "source": [
        "save_path = \"/content/drive/MyDrive/Untitled2/cats_vs_dogs_model.h5\"\n",
        "\n",
        "# Make sure the folder exists\n",
        "import os\n",
        "os.makedirs(\"/content/drive/MyDrive/Untitled2\", exist_ok=True)\n",
        "\n",
        "# Save the model\n",
        "model.save(save_path)\n",
        "print(\"Model saved at:\", save_path)\n"
      ],
      "metadata": {
        "id": "_blRLPv2ASb6"
      },
      "execution_count": null,
      "outputs": []
    },
    {
      "cell_type": "code",
      "source": [
        "from tensorflow.keras.models import load_model\n",
        "\n",
        "model = load_model('/content/drive/MyDrive/Untitled2/cats_vs_dogs_model.h5')\n"
      ],
      "metadata": {
        "id": "k1tbDKwRAhCh"
      },
      "execution_count": null,
      "outputs": []
    }
  ],
  "metadata": {
    "colab": {
      "provenance": [],
      "gpuType": "T4",
      "authorship_tag": "ABX9TyNSw0ErMvQA1uBgL7AGyDCL",
      "include_colab_link": true
    },
    "kernelspec": {
      "display_name": "Python 3",
      "name": "python3"
    },
    "language_info": {
      "name": "python"
    },
    "accelerator": "GPU"
  },
  "nbformat": 4,
  "nbformat_minor": 0
}